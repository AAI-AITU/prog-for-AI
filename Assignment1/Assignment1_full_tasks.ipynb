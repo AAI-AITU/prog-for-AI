{
 "cells": [
  {
   "cell_type": "markdown",
   "id": "89f1cbda",
   "metadata": {},
   "source": [
    "# Assignment 1. Working with directories and files in Python\n",
    "\n",
    "\n",
    "---"
   ]
  },
  {
   "cell_type": "markdown",
   "id": "179ab66e",
   "metadata": {},
   "source": [
    "## Task 1: Working with folders and files\n",
    "\n",
    "### 1. Creating a project structure\n",
    "Write a script that creates a project directory with subfolders:\n",
    "- data\n",
    "- results"
   ]
  },
  {
   "cell_type": "code",
   "execution_count": null,
   "id": "3f30d26f",
   "metadata": {},
   "outputs": [
    {
     "name": "stdout",
     "output_type": "stream",
     "text": [
      "Created folders: data, results\n"
     ]
    }
   ],
   "source": [
    "import os\n",
    "from pathlib import Path\n",
    "\n",
    "data_dir = Path('data')\n",
    "results_dir = Path('results')\n",
    "data_dir.mkdir(exist_ok=True)\n",
    "results_dir.mkdir(exist_ok=True)\n",
    "print(f\"Created folders: {data_dir}, {results_dir}\")"
   ]
  },
  {
   "cell_type": "markdown",
   "id": "0e732bdd",
   "metadata": {},
   "source": [
    "### 2. Working with CSV files\n",
    "In the data folder, save the students.csv file with data about students (full name, group, grades).\n",
    "Read data from students.csv and calculate the average score for each student."
   ]
  },
  {
   "cell_type": "code",
   "execution_count": null,
   "id": "b26c505d",
   "metadata": {},
   "outputs": [
    {
     "name": "stdout",
     "output_type": "stream",
     "text": [
      "                full_name  Average\n",
      "0        Shomanov Ayaulym     73.0\n",
      "1         Sadykova Moldir     68.8\n",
      "2          Sadykova Aliya     76.4\n",
      "3        Imanbekov Yerlan     72.8\n",
      "4    Nurmaganbet Temirlan     71.6\n",
      "..                    ...      ...\n",
      "145      Kaldybek Ayaulym     80.6\n",
      "146         Beketov Damir     83.2\n",
      "147         Kaldybek Madi     80.2\n",
      "148      Zhussupov Gulnaz     75.0\n",
      "149       Kaldybek Gulnaz     83.0\n",
      "\n",
      "[150 rows x 2 columns]\n"
     ]
    }
   ],
   "source": [
    "import pandas as pd\n",
    "\n",
    "students_csv_path = data_dir / 'students.csv'\n",
    "students_df = pd.read_csv(students_csv_path)\n",
    "grade_columns = [\"math\", \"physics\", \"cs\", \"history\", \"english\"]\n",
    "students_df['Average'] = students_df[grade_columns].mean(axis=1)\n",
    "print(students_df[[\"full_name\", \"Average\"]])"
   ]
  },
  {
   "cell_type": "markdown",
   "id": "25078d0b",
   "metadata": {},
   "source": [
    "### 3. Save results\n",
    "Save aggregated results in JSON format (results/report.json).\n",
    "Check: if the file already exists, display a warning and ask for confirmation for overwriting."
   ]
  },
  {
   "cell_type": "code",
   "execution_count": 18,
   "id": "a379904c",
   "metadata": {},
   "outputs": [
    {
     "name": "stdout",
     "output_type": "stream",
     "text": [
      "Warning: results\\report.json already exists.\n"
     ]
    }
   ],
   "source": [
    "import json\n",
    "import sys\n",
    "\n",
    "report_path = results_dir / 'report.json'\n",
    "average_scores = dict(zip(students_df['full_name'], students_df['Average']))\n",
    "\n",
    "if report_path.exists():\n",
    "    print(f\"Warning: {report_path} already exists.\")\n",
    "    confirm = input(\"Do you want to overwrite it? (y/n): \")\n",
    "    if confirm.lower() != 'y':\n",
    "        print(\"Aborted. File was not overwritten.\")\n",
    "        sys.exit()\n",
    "\n",
    "with open(report_path, 'w') as f:\n",
    "    json.dump(average_scores, f, indent=4)"
   ]
  },
  {
   "cell_type": "markdown",
   "id": "e0f21745",
   "metadata": {},
   "source": [
    "### 4. Archiving\n",
    "Automatically create an archive results.zip, where the results folder is saved."
   ]
  },
  {
   "cell_type": "code",
   "execution_count": null,
   "id": "d4e987e6",
   "metadata": {},
   "outputs": [
    {
     "name": "stdout",
     "output_type": "stream",
     "text": [
      "Created archive: results.zip\n"
     ]
    }
   ],
   "source": [
    "import shutil\n",
    "\n",
    "shutil.make_archive('results', 'zip', root_dir=results_dir)\n",
    "print(\"Created archive: results.zip\")\n"
   ]
  },
  {
   "cell_type": "markdown",
   "id": "f216caf1",
   "metadata": {},
   "source": [
    "### 5. Working with pathlib\n",
    "Implement a check to see if report.json exists. If yes, print its size and last modification date."
   ]
  },
  {
   "cell_type": "code",
   "execution_count": 10,
   "id": "f3208e74",
   "metadata": {},
   "outputs": [
    {
     "name": "stdout",
     "output_type": "stream",
     "text": [
      "report.json exists. Size: 4083 bytes. Last modified: 2025-09-18 20:17:20.339977\n"
     ]
    }
   ],
   "source": [
    "from datetime import datetime\n",
    "\n",
    "if report_path.exists():\n",
    "    size = report_path.stat().st_size\n",
    "    mtime = datetime.fromtimestamp(report_path.stat().st_mtime)\n",
    "    print(f\"report.json exists. Size: {size} bytes. Last modified: {mtime}\")\n",
    "else:\n",
    "    print(\"report.json does not exist.\")"
   ]
  },
  {
   "cell_type": "markdown",
   "id": "a1f6686d",
   "metadata": {},
   "source": [
    "## Task 2: Search for a word in a text file\n",
    "Generate 5 text files (name_#.txt), put them in the same folder. The files contain any text. Write a program that accepts a search query and outputs the names of text files containing the desired substring."
   ]
  },
  {
   "cell_type": "code",
   "execution_count": null,
   "id": "6b5095ce",
   "metadata": {},
   "outputs": [
    {
     "name": "stdout",
     "output_type": "stream",
     "text": [
      "Created text_files\\file_1.txt\n",
      "Created text_files\\file_2.txt\n",
      "Created text_files\\file_3.txt\n",
      "Created text_files\\file_4.txt\n",
      "Created text_files\\file_5.txt\n"
     ]
    }
   ],
   "source": [
    "sample_texts = [\n",
    "    \"Mathematics is the language of the universe.\",\n",
    "    \"Probability theory is a branch of mathematics.\",\n",
    "    \"Artificial intelligence uses probability and statistics.\",\n",
    "    \"Data science involves mathematics, statistics, and coding.\",\n",
    "    \"Machine learning is a subset of artificial intelligence.\"\n",
    "]\n",
    "\n",
    "text_dir = Path('text_files')\n",
    "text_dir.mkdir(exist_ok=True)\n",
    "\n",
    "for i, text in enumerate(sample_texts, 1):\n",
    "    file_path = text_dir / f\"file_{i}.txt\"\n",
    "    with open(file_path, 'w') as f:\n",
    "        f.write(text)\n",
    "    print(f\"Created {file_path}\")"
   ]
  },
  {
   "cell_type": "code",
   "execution_count": null,
   "id": "361b8842",
   "metadata": {},
   "outputs": [
    {
     "name": "stdout",
     "output_type": "stream",
     "text": [
      "Files containing the search query:\n",
      "file_3.txt\n",
      "file_5.txt\n"
     ]
    }
   ],
   "source": [
    "def search_files(query, directory):\n",
    "    found_files = []\n",
    "    for file in directory.glob('*.txt'):\n",
    "        with open(file, 'r') as f:\n",
    "            content = f.read()\n",
    "            if query.lower() in content.lower():\n",
    "                found_files.append(file.name)\n",
    "    return found_files\n",
    "\n",
    "search_query = input(\"Enter search query: \")\n",
    "matching_files = search_files(search_query, text_dir)\n",
    "\n",
    "if matching_files:\n",
    "    print(\"Files containing the search query:\")\n",
    "    for fname in matching_files:\n",
    "        print(fname)\n",
    "else:\n",
    "    print(\"The search query is missing in these files.\")"
   ]
  },
  {
   "cell_type": "markdown",
   "id": "226dac05",
   "metadata": {},
   "source": [
    "## Task 3: File Information\n",
    "There is a file available file.txt. Write a program that outputs the following text statistics:\n",
    "- the number of letters of the Latin alphabet\n",
    "- number of words\n",
    "- number of lines"
   ]
  },
  {
   "cell_type": "code",
   "execution_count": 23,
   "id": "274b9be5",
   "metadata": {},
   "outputs": [
    {
     "name": "stdout",
     "output_type": "stream",
     "text": [
      "['Python', 'is', 'known', '', '4545', 'for', 'its', 'simplicity', 'and', 'ease', 'of', 'use,', 'which', 'makes', 'it', 'an', 'ideal', 'language', 'for', 'beginners.', 'It', 'has', 'a', 'straightforward', 'syntax', 'and', 'requires', 'less', 'code', 'than', 'other', 'programming', 'languages,', '23', 'ттт', 'which', 'means', 'that', 'developers', 'питон', 'can', 'focus', 'on', 'solving', 'problems', 'rather', 'than', 'writing', 'long', 'lines', 'of', 'code.']\n",
      "52\n",
      "Latin letters: 236\n",
      "Words: 47\n",
      "Lines: 6\n"
     ]
    }
   ],
   "source": [
    "import re\n",
    "\n",
    "file_txt_path = Path('data/file.txt')\n",
    "\n",
    "with open(file_txt_path, 'r', encoding='utf-8') as f:\n",
    "    text = f.read()\n",
    "\n",
    "latin_letters = len(re.findall(r'[A-Za-z]', text))\n",
    "lines = text.count('\\n') + 1 if text else 0\n",
    "\n",
    "# Split by whitespace, then count only those matching word regex\n",
    "split_words = [w.strip(\"!\") for w in text.split()]\n",
    "print(split_words)\n",
    "print(len(split_words))\n",
    "word_pattern = re.compile(r'^[\\w-]+$', re.UNICODE)\n",
    "words = [w for w in split_words if w and word_pattern.match(w)]\n",
    "\n",
    "print(f\"Latin letters: {latin_letters}\")\n",
    "print(f\"Words: {len(words)}\")\n",
    "print(f\"Lines: {lines}\")"
   ]
  },
  {
   "cell_type": "markdown",
   "id": "bcf85408",
   "metadata": {},
   "source": [
    "## Task 4: Forchanging words\n",
    "There are two files words.txt and forbidden_words.txt. In the file words.txt contains text. In a text file forbidden_words.txt forbidden words are stored separated by a space character. Write a program that replaces in the file words.txt all forbidden words from the file forbidden_words.txt with asterisks * (the number of asterisks is equal to the number of letters in the word). The program must replace all forbidden words wherever they occur, even in the middle of another word. Case-insensitive substitution is performed."
   ]
  },
  {
   "cell_type": "code",
   "execution_count": 25,
   "id": "56edfa90",
   "metadata": {},
   "outputs": [
    {
     "name": "stdout",
     "output_type": "stream",
     "text": [
      "****** is a high-level, interpreted *******ming **nguage that has gained immense popu**rity in recent years. It was first created in the **te 1980s by Guido van Rossum, and since then, it has become one of the most widely used *******ming **nguages in the world.\n",
      "****** is known for its simplicity and ease of use, which makes it an ideal **nguage for beginners. It has a straightforward syntax and requires less c**e than other *******ming **nguages, which means that developers can focus on solving problems rather than writing long lines of c**e. ******_******_*******ming\n",
      "done\n"
     ]
    }
   ],
   "source": [
    "from pathlib import Path\n",
    "import re\n",
    "\n",
    "words_path = Path('data/words.txt')\n",
    "forbidden_path = Path('data/forbidden_words.txt')\n",
    "\n",
    "with open(forbidden_path, 'r', encoding='utf-8') as f:\n",
    "    forbidden_words = f.read().split()\n",
    "\n",
    "with open(words_path, 'r', encoding='utf-8') as f:\n",
    "    text = f.read()\n",
    "\n",
    "def mask_forbidden(text, forbidden_words):\n",
    "    for word in forbidden_words:\n",
    "        pattern = re.compile(re.escape(word), re.IGNORECASE)\n",
    "        text = pattern.sub(lambda m: '*' * len(m.group()), text)\n",
    "    return text\n",
    "\n",
    "masked_text = mask_forbidden(text, forbidden_words)\n",
    "print(masked_text)\n",
    "\n",
    "with open(words_path, 'w', encoding='utf-8') as f:\n",
    "    f.write(masked_text)\n",
    "\n",
    "print('done')"
   ]
  }
 ],
 "metadata": {
  "kernelspec": {
   "display_name": "Python 3",
   "language": "python",
   "name": "python3"
  },
  "language_info": {
   "codemirror_mode": {
    "name": "ipython",
    "version": 3
   },
   "file_extension": ".py",
   "mimetype": "text/x-python",
   "name": "python",
   "nbconvert_exporter": "python",
   "pygments_lexer": "ipython3",
   "version": "3.10.5"
  }
 },
 "nbformat": 4,
 "nbformat_minor": 5
}
