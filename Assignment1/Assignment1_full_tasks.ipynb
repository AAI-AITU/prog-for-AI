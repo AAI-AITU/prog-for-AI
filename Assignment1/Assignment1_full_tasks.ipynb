{
 "cells": [
  {
   "cell_type": "markdown",
   "id": "89f1cbda",
   "metadata": {},
   "source": [
    "# Assignment 1. Working with directories and files in Python\n",
    "\n",
    "\n",
    "---"
   ]
  },
  {
   "cell_type": "markdown",
   "id": "179ab66e",
   "metadata": {},
   "source": [
    "## Task 1: Working with folders and files\n",
    "\n",
    "### 1. Creating a project structure\n",
    "Write a script that creates a project directory with subfolders:\n",
    "- data\n",
    "- results"
   ]
  },
  {
   "cell_type": "code",
   "execution_count": null,
   "id": "3f30d26f",
   "metadata": {},
   "outputs": [],
   "source": [
    "import os\n",
    "from pathlib import Path\n",
    "\n",
    "# Create project structure\n",
    "data_dir = Path('data')\n",
    "results_dir = Path('results')\n",
    "data_dir.mkdir(exist_ok=True)\n",
    "results_dir.mkdir(exist_ok=True)\n",
    "print(f\"Created folders: {data_dir}, {results_dir}\")"
   ]
  },
  {
   "cell_type": "markdown",
   "id": "0e732bdd",
   "metadata": {},
   "source": [
    "### 2. Working with CSV files\n",
    "In the data folder, save the students.csv file with data about students (full name, group, grades).\n",
    "Read data from students.csv and calculate the average score for each student."
   ]
  },
  {
   "cell_type": "code",
   "execution_count": 4,
   "id": "b26c505d",
   "metadata": {},
   "outputs": [
    {
     "name": "stdout",
     "output_type": "stream",
     "text": [
      "                full_name  Average\n",
      "0        Shomanov Ayaulym     73.0\n",
      "1         Sadykova Moldir     68.8\n",
      "2          Sadykova Aliya     76.4\n",
      "3        Imanbekov Yerlan     72.8\n",
      "4    Nurmaganbet Temirlan     71.6\n",
      "..                    ...      ...\n",
      "145      Kaldybek Ayaulym     80.6\n",
      "146         Beketov Damir     83.2\n",
      "147         Kaldybek Madi     80.2\n",
      "148      Zhussupov Gulnaz     75.0\n",
      "149       Kaldybek Gulnaz     83.0\n",
      "\n",
      "[150 rows x 2 columns]\n"
     ]
    }
   ],
   "source": [
    "import pandas as pd\n",
    "\n",
    "# Read students.csv from data folder\n",
    "students_csv_path = data_dir / 'students.csv'\n",
    "students_df = pd.read_csv(students_csv_path)\n",
    "grade_columns = [\"math\", \"physics\", \"cs\", \"history\", \"english\"]\n",
    "students_df['Average'] = students_df[grade_columns].mean(axis=1)\n",
    "print(students_df[[\"full_name\", \"Average\"]])"
   ]
  },
  {
   "cell_type": "markdown",
   "id": "25078d0b",
   "metadata": {},
   "source": [
    "### 3. Save results\n",
    "Save aggregated results in JSON format (results/report.json).\n",
    "Check: if the file already exists, display a warning and ask for confirmation for overwriting."
   ]
  },
  {
   "cell_type": "code",
   "execution_count": null,
   "id": "a379904c",
   "metadata": {},
   "outputs": [
    {
     "name": "stdout",
     "output_type": "stream",
     "text": [
      "Saved report to results\\report.json\n"
     ]
    }
   ],
   "source": [
    "import json\n",
    "\n",
    "report_path = results_dir / 'report.json'\n",
    "average_scores = dict(zip(students_df['full_name'], students_df['Average']))\n",
    "\n",
    "with open(report_path, 'w') as f:\n",
    "    json.dump(average_scores, f, indent=4)\n",
    "\n"
   ]
  },
  {
   "cell_type": "markdown",
   "id": "e0f21745",
   "metadata": {},
   "source": [
    "### 4. Archiving\n",
    "Automatically create an archive results.zip, where the results folder is saved."
   ]
  },
  {
   "cell_type": "code",
   "execution_count": 7,
   "id": "d4e987e6",
   "metadata": {},
   "outputs": [
    {
     "name": "stdout",
     "output_type": "stream",
     "text": [
      "Created archive: results.zip\n"
     ]
    }
   ],
   "source": [
    "import shutil\n",
    "\n",
    "# Archive the results folder\n",
    "shutil.make_archive('results', 'zip', root_dir=results_dir)\n",
    "print(\"Created archive: results.zip\")"
   ]
  },
  {
   "cell_type": "markdown",
   "id": "f216caf1",
   "metadata": {},
   "source": [
    "### 5. Working with pathlib\n",
    "Implement a check to see if report.json exists. If yes, print its size and last modification date."
   ]
  },
  {
   "cell_type": "code",
   "execution_count": 8,
   "id": "f3208e74",
   "metadata": {},
   "outputs": [
    {
     "name": "stdout",
     "output_type": "stream",
     "text": [
      "report.json exists. Size: 4083 bytes. Last modified: 2025-09-18 19:44:48.020844\n"
     ]
    }
   ],
   "source": [
    "from datetime import datetime\n",
    "\n",
    "if report_path.exists():\n",
    "    size = report_path.stat().st_size\n",
    "    mtime = datetime.fromtimestamp(report_path.stat().st_mtime)\n",
    "    print(f\"report.json exists. Size: {size} bytes. Last modified: {mtime}\")\n",
    "else:\n",
    "    print(\"report.json does not exist.\")"
   ]
  },
  {
   "cell_type": "markdown",
   "id": "a1f6686d",
   "metadata": {},
   "source": [
    "## Task 2: Search for a word in a text file\n",
    "Generate 5 text files (name_#.txt), put them in the same folder. The files contain any text. Write a program that accepts a search query and outputs the names of text files containing the desired substring."
   ]
  },
  {
   "cell_type": "code",
   "execution_count": null,
   "id": "6b5095ce",
   "metadata": {},
   "outputs": [],
   "source": [
    "# Generate 5 text files with sample content\n",
    "sample_texts = [\n",
    "    \"Mathematics is the language of the universe.\",\n",
    "    \"Probability theory is a branch of mathematics.\",\n",
    "    \"Artificial intelligence uses probability and statistics.\",\n",
    "    \"Data science involves mathematics, statistics, and coding.\",\n",
    "    \"Machine learning is a subset of artificial intelligence.\"\n",
    "]\n",
    "\n",
    "text_dir = Path('text_files')\n",
    "text_dir.mkdir(exist_ok=True)\n",
    "\n",
    "for i, text in enumerate(sample_texts, 1):\n",
    "    file_path = text_dir / f\"file_{i}.txt\"\n",
    "    with open(file_path, 'w') as f:\n",
    "        f.write(text)\n",
    "    print(f\"Created {file_path}\")"
   ]
  },
  {
   "cell_type": "code",
   "execution_count": null,
   "id": "361b8842",
   "metadata": {},
   "outputs": [],
   "source": [
    "# Search for a substring in all text files\n",
    "def search_files(query, directory):\n",
    "    found_files = []\n",
    "    for file in directory.glob('*.txt'):\n",
    "        with open(file, 'r') as f:\n",
    "            content = f.read()\n",
    "            if query.lower() in content.lower():\n",
    "                found_files.append(file.name)\n",
    "    return found_files\n",
    "\n",
    "search_query = input(\"Enter search query: \")\n",
    "matching_files = search_files(search_query, text_dir)\n",
    "\n",
    "if matching_files:\n",
    "    print(\"Files containing the search query:\")\n",
    "    for fname in matching_files:\n",
    "        print(fname)\n",
    "else:\n",
    "    print(\"The search query is missing in these files.\")"
   ]
  },
  {
   "cell_type": "markdown",
   "id": "226dac05",
   "metadata": {},
   "source": [
    "## Task 3: File Information\n",
    "There is a file available file.txt. Write a program that outputs the following text statistics:\n",
    "- the number of letters of the Latin alphabet\n",
    "- number of words\n",
    "- number of lines"
   ]
  },
  {
   "cell_type": "code",
   "execution_count": null,
   "id": "274b9be5",
   "metadata": {},
   "outputs": [],
   "source": [
    "import re\n",
    "\n",
    "file_txt_path = Path('file.txt')\n",
    "\n",
    "with open(file_txt_path, 'r') as f:\n",
    "    text = f.read()\n",
    "\n",
    "latin_letters = len(re.findall(r'[A-Za-z]', text))\n",
    "words = len(re.findall(r'\\b\\w+\\b', text))\n",
    "lines = text.count('\\n') + 1 if text else 0\n",
    "\n",
    "print(f\"Latin letters: {latin_letters}\")\n",
    "print(f\"Words: {words}\")\n",
    "print(f\"Lines: {lines}\")"
   ]
  },
  {
   "cell_type": "markdown",
   "id": "bcf85408",
   "metadata": {},
   "source": [
    "## Task 4: Forchanging words\n",
    "There are two files words.txt and forbidden_words.txt. In the file words.txt contains text. In a text file forbidden_words.txt forbidden words are stored separated by a space character. Write a program that replaces in the file words.txt all forbidden words from the file forbidden_words.txt with asterisks * (the number of asterisks is equal to the number of letters in the word). The program must replace all forbidden words wherever they occur, even in the middle of another word. Case-insensitive substitution is performed."
   ]
  }
 ],
 "metadata": {
  "language_info": {
   "name": "python"
  }
 },
 "nbformat": 4,
 "nbformat_minor": 5
}
